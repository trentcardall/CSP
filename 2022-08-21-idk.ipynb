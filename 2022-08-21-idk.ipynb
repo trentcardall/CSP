# "Notebook test"
> "Awesome summary"

- toc: true
- branch: master
- badges: true
- comments: true
- author: Trent Cardall
- categories: [fastpages, jupyter]

## Example of python

```
print("hello")
```
