{
 "cells": [
  {
   "cell_type": "markdown",
   "metadata": {},
   "source": [
    "# \"3.14-15 code cells\"\n",
    "> \"HACKS\"\n",
    "\n",
    "- toc: true\n",
    "- branch: master\n",
    "- badges: true\n",
    "- comments: true\n",
    "- author: Trent Cardall\n",
    "- categories: [fastpages, jupyter, hacks]"
   ]
  },
  {
   "cell_type": "code",
   "execution_count": 3,
   "metadata": {},
   "outputs": [
    {
     "name": "stdout",
     "output_type": "stream",
     "text": [
      "Peter\n",
      "Michael\n",
      "Grayson\n",
      "Gavin\n",
      "Michael\n"
     ]
    }
   ],
   "source": [
    "import random\n",
    "\n",
    "names = [\"Trent\", \"Derek\", \"Elijah\", \"Carson\", \"Gavin\", \"Justin\", \"Alex\", \"Grant\", \"Michael\",\n",
    " \"Grayson\", \"Aidan\", \"Sean\", \"Lester\", \"Peter\", \"Jack\"]\n",
    "\n",
    "i = 1\n",
    "while i <= 5:\n",
    "    random_name=random.choice(names)\n",
    "    print(random_name)\n",
    "    i += 1\n"
   ]
  },
  {
   "cell_type": "code",
   "execution_count": 6,
   "metadata": {},
   "outputs": [
    {
     "name": "stdout",
     "output_type": "stream",
     "text": [
      "Player 1 rolled a 7!\n",
      "Player 2 rolled a 9!\n",
      "Player 2 wins!\n"
     ]
    }
   ],
   "source": [
    "import random\n",
    "\n",
    "player1 = random.randint(1, 6) + random.randint(1, 6)\n",
    "player2 = random.randint(1, 6) + random.randint(1, 6)\n",
    "\n",
    "print(\"Player 1 rolled a \" + str(player1) + \"!\")\n",
    "print(\"Player 2 rolled a \" + str(player2) + \"!\")\n",
    "\n",
    "if player1 > player2:\n",
    "    print(\"Player 1 wins!\")\n",
    "if player1 < player2:\n",
    "    print(\"Player 2 wins!\")\n",
    "if player1 == player2:\n",
    "    print(\"Player 1 and Player 2 tied!\")"
   ]
  },
  {
   "cell_type": "code",
   "execution_count": 23,
   "metadata": {},
   "outputs": [
    {
     "name": "stdout",
     "output_type": "stream",
     "text": [
      "Initial direction: down\n",
      "Initial position: 11\n",
      "Goal position: 21\n",
      "Obstacle positions:\n",
      "15\n",
      "3\n",
      "6\n",
      "21\n",
      "2\n",
      "11\n",
      "19\n",
      "8\n",
      "23\n",
      "9\n",
      "24\n",
      "10\n"
     ]
    }
   ],
   "source": [
    "import random\n",
    "\n",
    "directions = [\"up\", \"down\", \"left\", \"right\"]\n",
    "\n",
    "# squares will be numbered 1-25 on grid, which is how I will decide positions on grid\n",
    "initial_direction = random.choice(directions)\n",
    "initial_position = random.randint(1, 25)\n",
    "goal_position = random.randint(1, 25)\n",
    "\n",
    "print(\"Initial direction: \" + initial_direction)\n",
    "print(\"Initial position: \" + str(initial_position))\n",
    "print(\"Goal position: \" + str(goal_position))\n",
    "\n",
    "# obstacles\n",
    "print(\"Obstacle positions:\")\n",
    "i = 1\n",
    "while i <= 12:\n",
    "    obstacle = random.randint(1, 25)\n",
    "    print(str(obstacle))\n",
    "    i += 1\n",
    "\n",
    "# if an obstacle position contradicts with another position, just put one obstacle or whatever else \n",
    "    # is supposed to go there"
   ]
  }
 ],
 "metadata": {
  "kernelspec": {
   "display_name": "Python 3.9.12 ('base')",
   "language": "python",
   "name": "python3"
  },
  "language_info": {
   "codemirror_mode": {
    "name": "ipython",
    "version": 3
   },
   "file_extension": ".py",
   "mimetype": "text/x-python",
   "name": "python",
   "nbconvert_exporter": "python",
   "pygments_lexer": "ipython3",
   "version": "3.9.12"
  },
  "orig_nbformat": 4,
  "vscode": {
   "interpreter": {
    "hash": "40d3a090f54c6569ab1632332b64b2c03c39dcf918b08424e98f38b5ae0af88f"
   }
  }
 },
 "nbformat": 4,
 "nbformat_minor": 2
}
