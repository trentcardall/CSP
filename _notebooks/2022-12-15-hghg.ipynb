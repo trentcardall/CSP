{
 "cells": [
  {
   "cell_type": "code",
   "execution_count": 1,
   "metadata": {
    "vscode": {
     "languageId": "javascript"
    }
   },
   "outputs": [],
   "source": [
    "function peak_finder(array){\n",
    "    let counter = 0\n",
    "    let peak = 0\n",
    "    let peak_index =0\n",
    "    while (counter <= array.length){\n",
    "      console.log(counter)\n",
    "    if (counter === 0){\n",
    "      if (a[0]>=a[1]){\n",
    "        peak = a[0]\n",
    "        peak_index = counter\n",
    "        counter = array.length\n",
    "        return `The ${counter-1} indexed number, ${peak} is a peak`\n",
    "      }else{\n",
    "        counter+=1\n",
    "      }\n",
    "    }else if(counter === array.length-1){\n",
    "       if (a[array.length-1] >= a[array.length-2]){\n",
    "       peak = a[array.length-1]\n",
    "       peak_index = counter\n",
    "       counter = array.length\n",
    "       return `The ${counter-1} indexed number, ${peak} is a peak`\n",
    "       }\n",
    "     }else{\n",
    "        if (a[counter]> a[counter+1] && a[counter]> a[counter-1]){\n",
    "        peak = a[counter]\n",
    "        peak_index = counter\n",
    "        counter = array.length\n",
    "        return `The ${counter-1} indexed number, ${peak} is a peak`\n",
    "      }else{\n",
    "        counter += 1\n",
    "      }\n",
    "    }\n",
    "  }\n",
    "  }"
   ]
  },
  {
   "cell_type": "code",
   "execution_count": null,
   "metadata": {
    "vscode": {
     "languageId": "javascript"
    }
   },
   "outputs": [],
   "source": [
    "function peak_finder(array){\n",
    "    // Check if the first element is a peak\n",
    "    if (array[0] >= array[1]){\n",
    "      return `The 0 indexed number, ${array[0]} is a peak`;\n",
    "    }\n",
    "  \n",
    "    // Check if the last element is a peak\n",
    "    if (array[array.length - 1] >= array[array.length - 2]){\n",
    "      return `The ${array.length - 1} indexed number, ${array[array.length - 1]} is a peak`;\n",
    "    }\n",
    "  \n",
    "    // Check the remaining elements for peaks\n",
    "    for (let i = 1; i < array.length - 1; i++){\n",
    "      if (array[i] >= array[i - 1] && array[i] >= array[i + 1]){\n",
    "        return `The ${i} indexed number, ${array[i]} is a peak`;\n",
    "      }\n",
    "    }\n",
    "  \n",
    "    // If no peak is found, return null\n",
    "    return null;\n",
    "  }\n",
    "  "
   ]
  },
  {
   "cell_type": "code",
   "execution_count": 8,
   "metadata": {},
   "outputs": [
    {
     "name": "stdout",
     "output_type": "stream",
     "text": [
      "[1, 2, 3]\n",
      "[1, 3, 2]\n",
      "[2, 1, 3]\n",
      "[2, 3, 1]\n",
      "[3, 1, 2]\n",
      "[3, 2, 1]\n"
     ]
    }
   ],
   "source": [
    "def permute(data):\n",
    "  if len(data) == 0:\n",
    "    yield []\n",
    "  else:\n",
    "    for i in range(len(data)):\n",
    "      for permutation in permute(data[:i] + data[i+1:]):\n",
    "        yield [data[i]] + permutation\n",
    "\n",
    "data = [1, 2, 3]\n",
    "for permutation in permute(data):\n",
    "    print(permutation)"
   ]
  }
 ],
 "metadata": {
  "kernelspec": {
   "display_name": "Python 3.9.12 ('base')",
   "language": "python",
   "name": "python3"
  },
  "language_info": {
   "codemirror_mode": {
    "name": "ipython",
    "version": 3
   },
   "file_extension": ".py",
   "mimetype": "text/x-python",
   "name": "python",
   "nbconvert_exporter": "python",
   "pygments_lexer": "ipython3",
   "version": "3.9.12"
  },
  "orig_nbformat": 4,
  "vscode": {
   "interpreter": {
    "hash": "40d3a090f54c6569ab1632332b64b2c03c39dcf918b08424e98f38b5ae0af88f"
   }
  }
 },
 "nbformat": 4,
 "nbformat_minor": 2
}
