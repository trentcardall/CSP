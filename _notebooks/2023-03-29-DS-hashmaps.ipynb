{
 "cells": [
  {
   "attachments": {},
   "cell_type": "markdown",
   "metadata": {},
   "source": [
    "#  Data Structures- Hashmaps, Sets, Hash Tables, Hashing and Collisions\n",
    "> Observing hashmaps with python dictionaries\n",
    "- toc: true\n",
    "- image: /images/python.png\n",
    "- categories: []\n",
    "- type: pbl\n",
    "- week: 28"
   ]
  },
  {
   "attachments": {},
   "cell_type": "markdown",
   "metadata": {},
   "source": [
    "## What is a Hashtable/Hashmap?\n",
    "\n",
    "> A hashtable is a data structure that with a collection of key-value pairs, where each key maps to a value, and the keys must be unique and hashable.\n",
    "\n",
    "- In Python there is a built in hashtable known as a _______________.\n",
    "\n",
    "> The primary purpose of a hashtable is to provide efficient lookup, insertion, and deletion operations. When an element is to be inserted into the hashtable, a hash function is used to map the key to a specific index in the underlying array that is used to store the key-value pairs. The value is then stored at that index. When searching for a value, the hash function is used again to find the index where the value is stored.\n",
    "\n",
    "> The key advantage of a hashtable over other data structures like arrays and linked lists is its average-case time complexity for lookup, insertion, and deletion operations.\n",
    "\n",
    "- The typical time complexity of a hashtable is _______________. \n"
   ]
  },
  {
   "attachments": {},
   "cell_type": "markdown",
   "metadata": {},
   "source": [
    "## What is Hashing and Collision?\n",
    "\n",
    "> Hashing is the process of mapping a given key to a value in a hash table or hashmap, using a hash function. The hash function takes the key as input and produces a hash value or hash code, which is then used to determine the index in the underlying array where the value is stored. The purpose of hashing is to provide a quick and efficient way to access data, by eliminating the need to search through an entire data structure to find a value.\n",
    "\n",
    "> However, it is possible for two different keys to map to the same hash value, resulting in a collision. When a collision occurs, there are different ways to resolve it, depending on the collision resolution strategy used.\n",
    "\n",
    "> Python's dictionary implementation is optimized to handle collisions efficiently, and the performance of the dictionary is generally very good, even in the presence of collisions. However, if the number of collisions is very high, the performance of the dictionary can degrade, so it is important to choose a good hash function that minimizes collisions when designing a Python dictionary.\n",
    "\n",
    "## What is a Set?"
   ]
  },
  {
   "cell_type": "code",
   "execution_count": 1,
   "metadata": {},
   "outputs": [
    {
     "name": "stdout",
     "output_type": "stream",
     "text": [
      "{1, 2, 3}\n"
     ]
    }
   ],
   "source": [
    "# Creating a set using set() function\n",
    "my_set = set([1, 2, 3, 2, 1])\n",
    "print(my_set)  \n",
    "\n",
    "# What do you notice in the output?\n",
    "# It doesn't print any duplicates. It only prints each number involved once, even if it is mentioned\n",
    "# multiple times\n",
    "\n",
    "# Why do you think Sets are in the same tech talk as Hashmaps/Hashtables?\n",
    "# Like hashmaps and hashtables, sets have unique values\n",
    "#"
   ]
  },
  {
   "attachments": {},
   "cell_type": "markdown",
   "metadata": {},
   "source": [
    "## Dictionary Example\n",
    "\n",
    "Below are just some basic features of a dictionary. As always, documentation is always the main source for all the full capablilties. "
   ]
  },
  {
   "cell_type": "code",
   "execution_count": 2,
   "metadata": {},
   "outputs": [
    {
     "name": "stdout",
     "output_type": "stream",
     "text": [
      "{'title': 'Lover', 'artist': 'Taylor Swift', 'year': 2019, 'genre': ['Pop', 'Synth-pop'], 'tracks': {1: 'I Forgot That You Existed', 2: 'Cruel Summer', 3: 'Lover', 4: 'The Man', 5: 'The Archer', 6: 'I Think He Knows', 7: 'Miss Americana & The Heartbreak Prince', 8: 'Paper Rings', 9: 'Cornelia Street', 10: 'Death By A Thousand Cuts', 11: 'London Boy', 12: \"Soon You'll Get Better (feat. Dixie Chicks)\", 13: 'False God', 14: 'You Need To Calm Down', 15: 'Afterglow', 16: 'Me! (feat. Brendon Urie of Panic! At The Disco)', 17: \"It's Nice To Have A Friend\", 18: 'Daylight'}}\n"
     ]
    }
   ],
   "source": [
    "# Creating a dictionary with information about the album \"Lover\"\n",
    "lover_album = {\n",
    "    \"title\": \"Lover\",\n",
    "    \"artist\": \"Taylor Swift\",\n",
    "    \"year\": 2019,\n",
    "    \"genre\": [\"Pop\", \"Synth-pop\"],\n",
    "    \"tracks\": {\n",
    "        1: \"I Forgot That You Existed\",\n",
    "        2: \"Cruel Summer\",\n",
    "        3: \"Lover\",\n",
    "        4: \"The Man\",\n",
    "        5: \"The Archer\",\n",
    "        6: \"I Think He Knows\",\n",
    "        7: \"Miss Americana & The Heartbreak Prince\",\n",
    "        8: \"Paper Rings\",\n",
    "        9: \"Cornelia Street\",\n",
    "        10: \"Death By A Thousand Cuts\",\n",
    "        11: \"London Boy\",\n",
    "        12: \"Soon You'll Get Better (feat. Dixie Chicks)\",\n",
    "        13: \"False God\",\n",
    "        14: \"You Need To Calm Down\",\n",
    "        15: \"Afterglow\",\n",
    "        16: \"Me! (feat. Brendon Urie of Panic! At The Disco)\",\n",
    "        17: \"It's Nice To Have A Friend\",\n",
    "        18: \"Daylight\"\n",
    "    }\n",
    "}\n",
    "\n",
    "# What data structures do you see?\n",
    "# List on genre, and tracks have a dictionary\n",
    "#\n",
    "\n",
    "# Printing the dictionary\n",
    "print(lover_album)"
   ]
  },
  {
   "cell_type": "code",
   "execution_count": 3,
   "metadata": {},
   "outputs": [
    {
     "name": "stdout",
     "output_type": "stream",
     "text": [
      "{1: 'I Forgot That You Existed', 2: 'Cruel Summer', 3: 'Lover', 4: 'The Man', 5: 'The Archer', 6: 'I Think He Knows', 7: 'Miss Americana & The Heartbreak Prince', 8: 'Paper Rings', 9: 'Cornelia Street', 10: 'Death By A Thousand Cuts', 11: 'London Boy', 12: \"Soon You'll Get Better (feat. Dixie Chicks)\", 13: 'False God', 14: 'You Need To Calm Down', 15: 'Afterglow', 16: 'Me! (feat. Brendon Urie of Panic! At The Disco)', 17: \"It's Nice To Have A Friend\", 18: 'Daylight'}\n",
      "{1: 'I Forgot That You Existed', 2: 'Cruel Summer', 3: 'Lover', 4: 'The Man', 5: 'The Archer', 6: 'I Think He Knows', 7: 'Miss Americana & The Heartbreak Prince', 8: 'Paper Rings', 9: 'Cornelia Street', 10: 'Death By A Thousand Cuts', 11: 'London Boy', 12: \"Soon You'll Get Better (feat. Dixie Chicks)\", 13: 'False God', 14: 'You Need To Calm Down', 15: 'Afterglow', 16: 'Me! (feat. Brendon Urie of Panic! At The Disco)', 17: \"It's Nice To Have A Friend\", 18: 'Daylight'}\n"
     ]
    }
   ],
   "source": [
    "# Retrieve value from dictionary with key\n",
    "print(lover_album.get('tracks'))\n",
    "# or\n",
    "print(lover_album['tracks'])"
   ]
  },
  {
   "cell_type": "code",
   "execution_count": 4,
   "metadata": {},
   "outputs": [
    {
     "name": "stdout",
     "output_type": "stream",
     "text": [
      "The Man\n",
      "The Man\n"
     ]
    }
   ],
   "source": [
    "# Retrieve value from a dictionary inside a dictionary\n",
    "print(lover_album.get('tracks')[4])\n",
    "# or\n",
    "print(lover_album['tracks'][4])"
   ]
  },
  {
   "cell_type": "code",
   "execution_count": 6,
   "metadata": {},
   "outputs": [
    {
     "name": "stdout",
     "output_type": "stream",
     "text": [
      "{'title': 'Lover', 'artist': 'Taylor Swift', 'year': 2019, 'genre': ['Pop', 'Synth-pop'], 'tracks': {1: 'I Forgot That You Existed', 2: 'Cruel Summer', 3: 'Lover', 4: 'The Man', 5: 'The Archer', 6: 'I Think He Knows', 7: 'Miss Americana & The Heartbreak Prince', 8: 'Paper Rings', 9: 'Cornelia Street', 10: 'Death By A Thousand Cuts', 11: 'London Boy', 12: \"Soon You'll Get Better (feat. Dixie Chicks)\", 13: 'False God', 14: 'You Need To Calm Down', 15: 'Afterglow', 16: 'Me! (feat. Brendon Urie of Panic! At The Disco)', 17: \"It's Nice To Have A Friend\", 18: 'Daylight'}, 'producer': {'Taylor Swift', 'Joel Little', 'Jack Antonoff', 'Louis Bell', 'Frank Dukes'}}\n"
     ]
    }
   ],
   "source": [
    "# adding a value with a new key\n",
    "lover_album[\"producer\"] = set(['Taylor Swift', 'Jack Antonoff', 'Joel Little', 'Taylor Swift', 'Louis Bell', 'Frank Dukes'])\n",
    "\n",
    "# What can you change to make sure there are no duplicate producers?\n",
    "# Make it into a set\n",
    "#\n",
    "\n",
    "# Printing the dictionary\n",
    "print(lover_album)"
   ]
  },
  {
   "cell_type": "code",
   "execution_count": 27,
   "metadata": {},
   "outputs": [
    {
     "name": "stdout",
     "output_type": "stream",
     "text": [
      "{'title': 'Lover', 'artist': 'Taylor Swift', 'year': 2019, 'genre': ['Pop', 'Synth-pop', 'electropop', 'electropop'], 'tracks': {1: 'I Forgot That You Existed', 2: 'Cruel Summer', 3: 'Lover', 4: 'The Man', 5: 'The Archer', 6: 'I Think He Knows', 7: 'Miss Americana & The Heartbreak Prince', 8: 'Paper Rings', 9: 'Cornelia Street', 10: 'Death By A Thousand Cuts', 11: 'London Boy', 12: \"Soon You'll Get Better (feat. Dixie Chicks)\", 13: 'False God', 14: 'You Need To Calm Down', 15: 'Afterglow', 16: 'Me! (feat. Brendon Urie of Panic! At The Disco)', 17: \"It's Nice To Have A Friend\", 18: 'Daylight', 19: 'All Of The Girls You Loved Before'}, 'producer': {'Taylor Swift', 'Joel Little', 'Jack Antonoff', 'Louis Bell', 'Frank Dukes'}}\n"
     ]
    }
   ],
   "source": [
    "# Adding a an key-value pair to an existing key \n",
    "lover_album[\"tracks\"].update({19: \"All Of The Girls You Loved Before\"})\n",
    "lover_album[\"genre\"].append(\"electropop\")\n",
    "\n",
    "# How would add an additional genre to the dictionary, like electropop? \n",
    "# Since genre is a list, use the append function to add something else to the list\n",
    "# \n",
    "\n",
    "# Printing the dictionary\n",
    "print(lover_album)"
   ]
  },
  {
   "cell_type": "code",
   "execution_count": 5,
   "metadata": {},
   "outputs": [
    {
     "name": "stdout",
     "output_type": "stream",
     "text": [
      "title: Lover\n",
      "artist: Taylor Swift\n",
      "year: 2019\n",
      "genre: ['Pop', 'Synth-pop']\n",
      "tracks:\n",
      "\t1: I Forgot That You Existed\n",
      "\t2: Cruel Summer\n",
      "\t3: Lover\n",
      "\t4: The Man\n",
      "\t5: The Archer\n",
      "\t6: I Think He Knows\n",
      "\t7: Miss Americana & The Heartbreak Prince\n",
      "\t8: Paper Rings\n",
      "\t9: Cornelia Street\n",
      "\t10: Death By A Thousand Cuts\n",
      "\t11: London Boy\n",
      "\t12: Soon You'll Get Better (feat. Dixie Chicks)\n",
      "\t13: False God\n",
      "\t14: You Need To Calm Down\n",
      "\t15: Afterglow\n",
      "\t16: Me! (feat. Brendon Urie of Panic! At The Disco)\n",
      "\t17: It's Nice To Have A Friend\n",
      "\t18: Daylight\n"
     ]
    }
   ],
   "source": [
    "\n",
    "def display_album(album):\n",
    "    # Print lover_album in more readable format\n",
    "    for k,v in album.items(): # iterate using a for loop for key and value\n",
    "        print(str(k) + \": \" + str(v))\n",
    "        if k == \"genre\": # have iteration stop before it reaches \"tracks\"\n",
    "            break\n",
    "\n",
    "    # print \"tracks\" in more readable format\n",
    "    print(\"tracks:\")\n",
    "    for k,v in album[\"tracks\"].items():\n",
    "        print(\"\\t\" + str(k) + \": \" + str(v))\n",
    "    \n",
    "\n",
    "# Write your own code to print tracks in readable format\n",
    "# I made the first loop stop at \"genre\" then made a second for loop just for the tracks section\n",
    "#\n",
    "\n",
    "display_album(lover_album)"
   ]
  },
  {
   "cell_type": "code",
   "execution_count": 16,
   "metadata": {},
   "outputs": [
    {
     "name": "stdout",
     "output_type": "stream",
     "text": [
      "{1: 'I Forgot That You Existed', 2: 'Cruel Summer', 3: 'Lover', 4: 'The Man', 5: 'The Archer', 6: 'I Think He Knows', 7: 'Miss Americana & The Heartbreak Prince', 8: 'Paper Rings', 9: 'Cornelia Street', 10: 'Death By A Thousand Cuts', 11: 'London Boy', 12: \"Soon You'll Get Better (feat. Dixie Chicks)\", 13: 'False God', 14: 'You Need To Calm Down', 15: 'Afterglow', 16: 'Me! (feat. Brendon Urie of Panic! At The Disco)', 17: \"It's Nice To Have A Friend\", 18: 'Daylight', 19: 'All Of The Girls You Loved Before'}\n"
     ]
    }
   ],
   "source": [
    "# Using conditionals to retrieve a random song\n",
    "def search():\n",
    "    search = input(\"What would you like to know about the album?\")\n",
    "    if lover_album.get(search.lower()) == None:\n",
    "        print(\"Invalid Search\")\n",
    "    else:\n",
    "        print(lover_album.get(search.lower()))\n",
    "\n",
    "search()\n",
    "\n",
    "# This is a very basic code segment, how can you improve upon this code?\n",
    "# You can add to search for specific tracks or\n",
    "#"
   ]
  },
  {
   "attachments": {},
   "cell_type": "markdown",
   "metadata": {},
   "source": [
    "## Hacks\n",
    "\n",
    "- Answer *ALL* questions in the code segments\n",
    "- Create a diagram or comparison illustration (Canva).\n",
    "    - What are the pro and cons of using this data structure? \n",
    "    - Dictionary vs List    \n",
    "- Expand upon the code given to you, possible improvements in comments\n",
    "- Build your own album showing features of a python dictionary\n",
    "\n",
    "- For Mr. Yeung's class: Justify your favorite Taylor Swift song, answer may effect seed"
   ]
  },
  {
   "cell_type": "markdown",
   "metadata": {},
   "source": [
    "## Canva Comparison\n",
    "\n",
    "![](images/listdict.png)"
   ]
  },
  {
   "cell_type": "markdown",
   "metadata": {},
   "source": [
    "### Add tracks function"
   ]
  },
  {
   "cell_type": "code",
   "execution_count": 31,
   "metadata": {},
   "outputs": [
    {
     "name": "stdout",
     "output_type": "stream",
     "text": [
      "title: Lover\n",
      "artist: Taylor Swift\n",
      "year: 2019\n",
      "genre: ['Pop', 'Synth-pop', 'electropop', 'electropop']\n",
      "Tracks:\n",
      "\t1: I Forgot That You Existed\n",
      "\t2: Cruel Summer\n",
      "\t3: Lover\n",
      "\t4: The Man\n",
      "\t5: The Archer\n",
      "\t6: I Think He Knows\n",
      "\t7: Miss Americana & The Heartbreak Prince\n",
      "\t8: Paper Rings\n",
      "\t9: Cornelia Street\n",
      "\t10: Death By A Thousand Cuts\n",
      "\t11: London Boy\n",
      "\t12: Soon You'll Get Better (feat. Dixie Chicks)\n",
      "\t13: False God\n",
      "\t14: You Need To Calm Down\n",
      "\t15: Afterglow\n",
      "\t16: Me! (feat. Brendon Urie of Panic! At The Disco)\n",
      "\t17: It's Nice To Have A Friend\n",
      "\t18: Daylight\n",
      "\t19: All Of The Girls You Loved Before\n",
      "\t20: hi\n",
      "\t21: example\n"
     ]
    }
   ],
   "source": [
    "def update():\n",
    "    track = len(lover_album[\"tracks\"]) + 1\n",
    "    name = input(\"Enter the name for the new track:\")\n",
    "    lover_album[\"tracks\"].update({track: name})\n",
    "\n",
    "update()\n",
    "display_album()"
   ]
  },
  {
   "cell_type": "markdown",
   "metadata": {},
   "source": [
    "### Delete tracks"
   ]
  },
  {
   "cell_type": "code",
   "execution_count": 33,
   "metadata": {},
   "outputs": [
    {
     "ename": "KeyError",
     "evalue": "'21'",
     "output_type": "error",
     "traceback": [
      "\u001b[0;31m---------------------------------------------------------------------------\u001b[0m",
      "\u001b[0;31mKeyError\u001b[0m                                  Traceback (most recent call last)",
      "\u001b[1;32m/Users/Trent/vscode/cuddly-succotash/_notebooks/2023-03-29-DS-hashmaps.ipynb Cell 18\u001b[0m in \u001b[0;36m<cell line: 6>\u001b[0;34m()\u001b[0m\n\u001b[1;32m      <a href='vscode-notebook-cell:/Users/Trent/vscode/cuddly-succotash/_notebooks/2023-03-29-DS-hashmaps.ipynb#X23sZmlsZQ%3D%3D?line=2'>3</a>\u001b[0m     lover_album[\u001b[39m\"\u001b[39m\u001b[39mtracks\u001b[39m\u001b[39m\"\u001b[39m]\u001b[39m.\u001b[39mpop(track)\n\u001b[1;32m      <a href='vscode-notebook-cell:/Users/Trent/vscode/cuddly-succotash/_notebooks/2023-03-29-DS-hashmaps.ipynb#X23sZmlsZQ%3D%3D?line=3'>4</a>\u001b[0m     display_album()\n\u001b[0;32m----> <a href='vscode-notebook-cell:/Users/Trent/vscode/cuddly-succotash/_notebooks/2023-03-29-DS-hashmaps.ipynb#X23sZmlsZQ%3D%3D?line=5'>6</a>\u001b[0m delete()\n",
      "\u001b[1;32m/Users/Trent/vscode/cuddly-succotash/_notebooks/2023-03-29-DS-hashmaps.ipynb Cell 18\u001b[0m in \u001b[0;36mdelete\u001b[0;34m()\u001b[0m\n\u001b[1;32m      <a href='vscode-notebook-cell:/Users/Trent/vscode/cuddly-succotash/_notebooks/2023-03-29-DS-hashmaps.ipynb#X23sZmlsZQ%3D%3D?line=0'>1</a>\u001b[0m \u001b[39mdef\u001b[39;00m \u001b[39mdelete\u001b[39m():\n\u001b[1;32m      <a href='vscode-notebook-cell:/Users/Trent/vscode/cuddly-succotash/_notebooks/2023-03-29-DS-hashmaps.ipynb#X23sZmlsZQ%3D%3D?line=1'>2</a>\u001b[0m     track \u001b[39m=\u001b[39m \u001b[39minput\u001b[39m(\u001b[39m\"\u001b[39m\u001b[39mWhich track # do you want to delete?\u001b[39m\u001b[39m\"\u001b[39m)\n\u001b[0;32m----> <a href='vscode-notebook-cell:/Users/Trent/vscode/cuddly-succotash/_notebooks/2023-03-29-DS-hashmaps.ipynb#X23sZmlsZQ%3D%3D?line=2'>3</a>\u001b[0m     lover_album[\u001b[39m\"\u001b[39;49m\u001b[39mtracks\u001b[39;49m\u001b[39m\"\u001b[39;49m]\u001b[39m.\u001b[39;49mpop(track)\n\u001b[1;32m      <a href='vscode-notebook-cell:/Users/Trent/vscode/cuddly-succotash/_notebooks/2023-03-29-DS-hashmaps.ipynb#X23sZmlsZQ%3D%3D?line=3'>4</a>\u001b[0m     display_album()\n",
      "\u001b[0;31mKeyError\u001b[0m: '21'"
     ]
    }
   ],
   "source": [
    "def delete():\n",
    "    track = input(\"Which track # do you want to delete?\")\n",
    "    lover_album[\"tracks\"].pop(track)\n",
    "    display_album()\n",
    "\n",
    "delete()"
   ]
  },
  {
   "cell_type": "markdown",
   "metadata": {},
   "source": [
    "### Create your own album"
   ]
  },
  {
   "cell_type": "code",
   "execution_count": 4,
   "metadata": {},
   "outputs": [
    {
     "name": "stdout",
     "output_type": "stream",
     "text": [
      "title: Cool Album\n",
      "artist: Trent Cardall\n",
      "genre: ['cool']\n",
      "Tracks:\n",
      "\t1: cool song 1\n",
      "\t2: cool song 2\n",
      "\t3: cool song 3\n"
     ]
    }
   ],
   "source": [
    "album = {}\n",
    "\n",
    "title = input(\"What do you want your album to be called?\")\n",
    "album.update({\"title\": title})\n",
    "artist = input(\"Who is this album by?\")\n",
    "album.update({\"artist\": artist})\n",
    "genre = input(\"What genre is this album?\")\n",
    "album.update({\"genre\": [genre]})\n",
    "track = input(\"What will be the name of the first track on this album\")\n",
    "album.update({\"tracks\": {1: track}})\n",
    "\n",
    "def more_tracks():\n",
    "    msg = input(\"Will there be more tracks on this album? Enter y for yes and n for no\")\n",
    "    if msg == \"y\":\n",
    "        num = len(album[\"tracks\"]) + 1\n",
    "        tracks = input(\"What will be the name of the next track on the album\")\n",
    "        album[\"tracks\"].update({num: tracks})\n",
    "        more_tracks()\n",
    "    if msg == \"n\":\n",
    "        display_album(album)\n",
    "\n",
    "more_tracks()"
   ]
  },
  {
   "cell_type": "code",
   "execution_count": null,
   "metadata": {},
   "outputs": [],
   "source": []
  }
 ],
 "metadata": {
  "kernelspec": {
   "display_name": "Python 3.9.12 ('base')",
   "language": "python",
   "name": "python3"
  },
  "language_info": {
   "codemirror_mode": {
    "name": "ipython",
    "version": 3
   },
   "file_extension": ".py",
   "mimetype": "text/x-python",
   "name": "python",
   "nbconvert_exporter": "python",
   "pygments_lexer": "ipython3",
   "version": "3.9.12"
  },
  "orig_nbformat": 4,
  "vscode": {
   "interpreter": {
    "hash": "40d3a090f54c6569ab1632332b64b2c03c39dcf918b08424e98f38b5ae0af88f"
   }
  }
 },
 "nbformat": 4,
 "nbformat_minor": 2
}
