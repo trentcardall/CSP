{
 "cells": [
  {
   "cell_type": "markdown",
   "metadata": {},
   "source": [
    "# \"3.3-3.4\"\n",
    "> \"HACKS\"\n",
    "\n",
    "- toc: true\n",
    "- branch: master\n",
    "- badges: true\n",
    "- comments: true\n",
    "- author: Trent Cardall\n",
    "- categories: [fastpages, jupyter, hacks]"
   ]
  },
  {
   "cell_type": "markdown",
   "metadata": {},
   "source": [
    "## 3.3 Video 1 Hacks\n",
    "Answers commented in code cells"
   ]
  },
  {
   "cell_type": "code",
   "execution_count": null,
   "metadata": {},
   "outputs": [],
   "source": [
    "# All these steps combined are sequencing\n",
    "numbers = [0,1,2,3,4,5,6,7,8,9,10]\n",
    "evens = []\n",
    "\n",
    "for i in numbers: # iteration\n",
    "    if (numbers[i] % 2 == 0): # selection (if statement)\n",
    "        evens.append(numbers[i])\n",
    "\n",
    "print(evens)"
   ]
  },
  {
   "cell_type": "code",
   "execution_count": null,
   "metadata": {},
   "outputs": [],
   "source": [
    "i = 1\n",
    "starString = \"*\"\n",
    "while i <= 5: # iteration\n",
    "  j = 1\n",
    "  while j <= i: # selection, executing if specific condition is met\n",
    "    print (\"*\", end= \"\") \n",
    "    j += 1\n",
    "  print ()\n",
    "  i += 1\n",
    "\n",
    "# all of this makes a sequence"
   ]
  },
  {
   "cell_type": "markdown",
   "metadata": {},
   "source": [
    "## 3.3 Video 2 Hacks\n",
    "\n",
    "1. a=1, b=7, c=3, d=7\n",
    "\n",
    "2. Hot and cold are swapped so hot becomes false and cold becomes true\n",
    "\n",
    "### Two of my own:\n",
    "\n",
    "1. \n",
    "- a⟵5\n",
    "- b⟵10\n",
    "- c⟵30\n",
    "- d⟵20\n",
    "- e⟵15\n",
    "- e⟵a\n",
    "- d⟵e+b\n",
    "\n",
    "**ANSWER:** a=5, b=10, c=30, d=15, e=5. a, b, and c all remain unchanged, while e gets reassigned to 5 and d becomes 5+10, which is 15.\n",
    "\n",
    "2. \n",
    "- num1⟵5\n",
    "- num2⟵10\n",
    "- num3⟵30\n",
    "- num4⟵20\n",
    "- num5⟵15\n",
    "- num1⟵num5\n",
    "- num5⟵num2\n",
    "- num4⟵num5 + num1\n",
    "\n",
    "**ANSWER:** num1=15, num2=10, num3=30, num4=25, num5=10. num1 gets reassigned to 15, while num2 and num3 remain unchanged. num5 becomes 10, while num4 becomes 10+15.\n",
    "\n",
    "## Sequencing question\n",
    "num1=1+5=6, num2=6+5=11\n",
    "\n",
    "## 3.4 Video 1 Hacks\n",
    "Test 1: SmithB@gmail.com    \n",
    "Test 2: Ompuook (This one was kind of confusing so I looked at the answer)"
   ]
  }
 ],
 "metadata": {
  "kernelspec": {
   "display_name": "Python 3.9.12 ('base')",
   "language": "python",
   "name": "python3"
  },
  "language_info": {
   "name": "python",
   "version": "3.9.12"
  },
  "orig_nbformat": 4,
  "vscode": {
   "interpreter": {
    "hash": "40d3a090f54c6569ab1632332b64b2c03c39dcf918b08424e98f38b5ae0af88f"
   }
  }
 },
 "nbformat": 4,
 "nbformat_minor": 2
}
