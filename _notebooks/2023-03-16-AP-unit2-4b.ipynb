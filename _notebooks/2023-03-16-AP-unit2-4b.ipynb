{
 "cells": [
  {
   "attachments": {},
   "cell_type": "markdown",
   "metadata": {},
   "source": [
    "#  Unit 2.4b Using Programs with Data, SQL\n",
    "> Using Programs with Data is focused on SQL and database actions.  Part B focuses on learning SQL commands, connections, and curses using an Imperative programming style,\n",
    "- toc: true\n",
    "- image: /images/python.png\n",
    "- categories: []\n",
    "- type: ap\n",
    "- week: 26"
   ]
  },
  {
   "attachments": {},
   "cell_type": "markdown",
   "metadata": {},
   "source": [
    "# Database Programming is Program with Data\n",
    "> Each Tri 2 Final Project should be an example of a Program with Data. \n",
    "\n",
    ">  Prepare to use SQLite in common Imperative Technique\n",
    "- Explore [SQLite Connect object](https://www.tutorialspoint.com/python_data_access/python_sqlite_establishing_connection.htm) to establish database connection\n",
    "- Explore [SQLite Cursor Object](https://www.tutorialspoint.com/python_data_access/python_sqlite_cursor_object.htm) to fetch data from a table within a database\n"
   ]
  },
  {
   "attachments": {},
   "cell_type": "markdown",
   "metadata": {},
   "source": [
    "## Schema of Users table in Sqlite.db\n",
    "> Uses PRAGMA statement to read schema.\n",
    "\n",
    "Describe Schema, here is resource [Resource](https://www.sqlite.org/index.html)\n",
    "- What is a database schema?\n",
    "    - How data is organized in a database.\n",
    "- What is the purpose of identity Column in SQL database?\n",
    "    - Generating key values for primary key columns.\n",
    "- What is the purpose of a primary key in SQL database?\n",
    "    - Uniquely identifies each record in a table\n",
    "- What are the Data Types in SQL table?\n",
    "    - String, numeric, date and time"
   ]
  },
  {
   "cell_type": "code",
   "execution_count": 1,
   "metadata": {},
   "outputs": [
    {
     "name": "stdout",
     "output_type": "stream",
     "text": [
      "(0, 'id', 'INTEGER', 1, None, 1)\n",
      "(1, '_name', 'VARCHAR(255)', 1, None, 0)\n",
      "(2, '_uid', 'VARCHAR(255)', 1, None, 0)\n",
      "(3, '_password', 'VARCHAR(255)', 1, None, 0)\n",
      "(4, '_dob', 'DATE', 0, None, 0)\n"
     ]
    }
   ],
   "source": [
    "import sqlite3\n",
    "\n",
    "database = 'instance/sqlite.db' # this is location of database\n",
    "\n",
    "def schema():\n",
    "    \n",
    "    # Connect to the database file\n",
    "    conn = sqlite3.connect(database)\n",
    "\n",
    "    # Create a cursor object to execute SQL queries\n",
    "    cursor = conn.cursor()\n",
    "    \n",
    "    # Fetch results of Schema\n",
    "    results = cursor.execute(\"PRAGMA table_info('users')\").fetchall()\n",
    "\n",
    "    # Print the results\n",
    "    for row in results:\n",
    "        print(row)\n",
    "\n",
    "    # Close the database connection\n",
    "    conn.close()\n",
    "    \n",
    "schema()\n"
   ]
  },
  {
   "attachments": {},
   "cell_type": "markdown",
   "metadata": {},
   "source": [
    "## Reading Users table in Sqlite.db\n",
    "> Uses SQL SELECT statement to read data\n",
    "\n",
    "- What is a connection object?  After you google it, what do you think it does?\n",
    "    - Creates a session with the data source\n",
    "- Same for cursor object?\n",
    "    - Retrieves data one row at a time\n",
    "- Look at conn object and cursor object in VSCode debugger.  What attributes are in the object?\n",
    "- Is \"results\" an object?  How do you know?\n",
    "    - Yes, it has data and variables"
   ]
  },
  {
   "cell_type": "code",
   "execution_count": 3,
   "metadata": {},
   "outputs": [
    {
     "name": "stdout",
     "output_type": "stream",
     "text": [
      "(1, 'Thomas Edison', 'toby', 'sha256$DFRnkm3Or5uHl7VU$499f6fe1101659ae17936e62ed8b832b38bc6d1d4ba444404c20238bde3739c5', '1847-02-11')\n",
      "(2, 'Nikola Tesla', 'niko', 'sha256$kgRYT0rKWoEs825U$7b0d0adf34adea1f5832d01166cae204b77bea9af8b8b21d027cff5866b2b9d5', '2023-03-15')\n",
      "(3, 'Alexander Graham Bell', 'lex', 'sha256$6x6IuKgohiUA1Ovm$54fad49de978ddac51b4e972e80160ecd09658f9cae75008cb16206090f31b60', '2023-03-15')\n",
      "(4, 'Eli Whitney', 'whit', 'sha256$tSWjCRTMFWpiD1P7$a8e11bb06844e3fac968f02a65d8111522982670dbf57ab8aa7f61e8957fd14b', '2023-03-15')\n",
      "(5, 'Indiana Jones', 'indi', 'sha256$QZnQiJVbvaYuNJUp$9d64606ca134832b02001557e8c08de9f3b81911725c4acde454674da1ac7f72', '1920-10-21')\n",
      "(6, 'Marion Ravenwood', 'raven', 'sha256$tvojNpWzWWW4zmMx$b7db6610e92b1441addad5aec407c0a0939e1c7dac4158f2592ee082a94ee304', '1921-10-21')\n"
     ]
    }
   ],
   "source": [
    "import sqlite3\n",
    "\n",
    "def read():\n",
    "    # Connect to the database file\n",
    "    conn = sqlite3.connect(database)\n",
    "\n",
    "    # Create a cursor object to execute SQL queries\n",
    "    cursor = conn.cursor()\n",
    "    \n",
    "    # Execute a SELECT statement to retrieve data from a table\n",
    "    results = cursor.execute('SELECT * FROM users').fetchall()\n",
    "\n",
    "    # Print the results\n",
    "    if len(results) == 0:\n",
    "        print(\"Table is empty\")\n",
    "    else:\n",
    "        for row in results:\n",
    "            print(row)\n",
    "\n",
    "    # Close the cursor and connection objects\n",
    "    cursor.close()\n",
    "    conn.close()\n",
    "    \n",
    "read()\n"
   ]
  },
  {
   "attachments": {},
   "cell_type": "markdown",
   "metadata": {},
   "source": [
    "## Create a new User in table in Sqlite.db\n",
    "> Uses SQL INSERT to add row\n",
    "-  Compore create() in both SQL lessons.  What is better or worse in the two implementations?\n",
    "    - The imperative implementation makes a little bit more sense to me as it just inserts a new row in the table. The other one creates a new object that is a user in a group of users\n",
    "-  Explain purpose of SQL INSERT.   Is this the same as User __init__?\n",
    "    - Init builds the class into a database, sort of, while insert inserts a new row into the database"
   ]
  },
  {
   "cell_type": "code",
   "execution_count": 5,
   "metadata": {},
   "outputs": [
    {
     "name": "stdout",
     "output_type": "stream",
     "text": [
      "A new user record trentcardall has been created\n"
     ]
    }
   ],
   "source": [
    "import sqlite3\n",
    "\n",
    "def create():\n",
    "    name = input(\"Enter your name:\")\n",
    "    uid = input(\"Enter your user id:\")\n",
    "    password = input(\"Enter your password\")\n",
    "    dob = input(\"Enter your date of birth 'YYYY-MM-DD'\")\n",
    "    \n",
    "    # Connect to the database file\n",
    "    conn = sqlite3.connect(database)\n",
    "\n",
    "    # Create a cursor object to execute SQL commands\n",
    "    cursor = conn.cursor()\n",
    "\n",
    "    try:\n",
    "        # Execute an SQL command to insert data into a table\n",
    "        cursor.execute(\"INSERT INTO users (_name, _uid, _password, _dob) VALUES (?, ?, ?, ?)\", (name, uid, password, dob))\n",
    "        \n",
    "        # Commit the changes to the database\n",
    "        conn.commit()\n",
    "        print(f\"A new user record {uid} has been created\")\n",
    "                \n",
    "    except sqlite3.Error as error:\n",
    "        print(\"Error while executing the INSERT:\", error)\n",
    "\n",
    "\n",
    "    # Close the cursor and connection objects\n",
    "    cursor.close()\n",
    "    conn.close()\n",
    "    \n",
    "create()"
   ]
  },
  {
   "attachments": {},
   "cell_type": "markdown",
   "metadata": {},
   "source": [
    "## Updating a User in table in Sqlite.db\n",
    "> Uses SQL UPDATE to modify password\n",
    "- What does the hacked part do?\n",
    "    - If the password someone enters a new password less than 2 characters wrong, the password would change to \"gothackednewpassword123\"\n",
    "- Explain try/except, when would except occur?\n",
    "    - Except would occur when there is an error with sqlite\n",
    "- What code seems to be repeated in each of these examples to point, why is it repeated?"
   ]
  },
  {
   "cell_type": "code",
   "execution_count": null,
   "metadata": {},
   "outputs": [],
   "source": [
    "import sqlite3\n",
    "\n",
    "def update():\n",
    "    uid = input(\"Enter user id to update\")\n",
    "    password = input(\"Enter updated password\")\n",
    "    if len(password) < 2:\n",
    "        message = \"hacked\"\n",
    "        password = 'gothackednewpassword123'\n",
    "    else:\n",
    "        message = \"successfully updated\"\n",
    "\n",
    "    # Connect to the database file\n",
    "    conn = sqlite3.connect(database)\n",
    "\n",
    "    # Create a cursor object to execute SQL commands\n",
    "    cursor = conn.cursor()\n",
    "\n",
    "    try:\n",
    "        # Execute an SQL command to update data in a table\n",
    "        cursor.execute(\"UPDATE users SET _password = ? WHERE _uid = ?\", (password, uid))\n",
    "        if cursor.rowcount == 0:\n",
    "            # The uid was not found in the table\n",
    "            print(f\"No uid {uid} was not found in the table\")\n",
    "        else:\n",
    "            print(f\"The row with user id {uid} the password has been {message}\")\n",
    "            conn.commit()\n",
    "    except sqlite3.Error as error:\n",
    "        print(\"Error while executing the UPDATE:\", error)\n",
    "        \n",
    "    \n",
    "    # Close the cursor and connection objects\n",
    "    cursor.close()\n",
    "    conn.close()\n",
    "    \n",
    "#update()\n"
   ]
  },
  {
   "attachments": {},
   "cell_type": "markdown",
   "metadata": {},
   "source": [
    "## Delete a User in table in Sqlite.db\n",
    "> Uses a delete function to remove a user based on a user input of the id.\n",
    "- Is DELETE a dangerous operation?  Why?\n",
    "    - Yes, it can be, because it removes information from a database that may not be recovered if lost.\n",
    "- In the print statemements, what is the \"f\" and what does {uid} do?\n",
    "    - f allows an object to be placed directly in the print statement with {} around it. {uid} means to print whatever the uid is right there."
   ]
  },
  {
   "cell_type": "code",
   "execution_count": null,
   "metadata": {},
   "outputs": [],
   "source": [
    "import sqlite3\n",
    "\n",
    "def delete():\n",
    "    uid = input(\"Enter user id to delete\")\n",
    "\n",
    "    # Connect to the database file\n",
    "    conn = sqlite3.connect(database)\n",
    "\n",
    "    # Create a cursor object to execute SQL commands\n",
    "    cursor = conn.cursor()\n",
    "    \n",
    "    try:\n",
    "        cursor.execute(\"DELETE FROM users WHERE _uid = ?\", (uid,))\n",
    "        if cursor.rowcount == 0:\n",
    "            # The uid was not found in the table\n",
    "            print(f\"No uid {uid} was not found in the table\")\n",
    "        else:\n",
    "            # The uid was found in the table and the row was deleted\n",
    "            print(f\"The row with uid {uid} was successfully deleted\")\n",
    "        conn.commit()\n",
    "    except sqlite3.Error as error:\n",
    "        print(\"Error while executing the DELETE:\", error)\n",
    "        \n",
    "    # Close the cursor and connection objects\n",
    "    cursor.close()\n",
    "    conn.close()\n",
    "    \n",
    "#delete()"
   ]
  },
  {
   "attachments": {},
   "cell_type": "markdown",
   "metadata": {},
   "source": [
    "# Menu Interface to CRUD operations\n",
    "> CRUD and Schema interactions from one location by running menu. Observe input at the top of VSCode, observe output underneath code cell.\n",
    "- Why does the menu repeat?\n",
    "- Could you refactor this menu?  Make it work with a List?"
   ]
  },
  {
   "cell_type": "code",
   "execution_count": 7,
   "metadata": {},
   "outputs": [
    {
     "name": "stdout",
     "output_type": "stream",
     "text": [
      "(1, 'Thomas Edison', 'toby', 'sha256$DFRnkm3Or5uHl7VU$499f6fe1101659ae17936e62ed8b832b38bc6d1d4ba444404c20238bde3739c5', '1847-02-11')\n",
      "(2, 'Nikola Tesla', 'niko', 'sha256$kgRYT0rKWoEs825U$7b0d0adf34adea1f5832d01166cae204b77bea9af8b8b21d027cff5866b2b9d5', '2023-03-15')\n",
      "(3, 'Alexander Graham Bell', 'lex', 'sha256$6x6IuKgohiUA1Ovm$54fad49de978ddac51b4e972e80160ecd09658f9cae75008cb16206090f31b60', '2023-03-15')\n",
      "(4, 'Eli Whitney', 'whit', 'sha256$tSWjCRTMFWpiD1P7$a8e11bb06844e3fac968f02a65d8111522982670dbf57ab8aa7f61e8957fd14b', '2023-03-15')\n",
      "(5, 'Indiana Jones', 'indi', 'sha256$QZnQiJVbvaYuNJUp$9d64606ca134832b02001557e8c08de9f3b81911725c4acde454674da1ac7f72', '1920-10-21')\n",
      "(6, 'Marion Ravenwood', 'raven', 'sha256$tvojNpWzWWW4zmMx$b7db6610e92b1441addad5aec407c0a0939e1c7dac4158f2592ee082a94ee304', '1921-10-21')\n",
      "(7, 'Trent Cardall', 'trentcardall', 'cardall', '2005-03-09')\n"
     ]
    }
   ],
   "source": [
    "# Menu, to run other cells from one control point\n",
    "def menu():\n",
    "    operation = input(\"Enter: (C)reate (R)ead (U)pdate or (D)elete or (S)chema\")\n",
    "    if operation.lower() == 'c':\n",
    "        create()\n",
    "    elif operation.lower() == 'r':\n",
    "        read()\n",
    "    elif operation.lower() == 'u':\n",
    "        update()\n",
    "    elif operation.lower() == 'd':\n",
    "        delete()\n",
    "    elif operation.lower() == 's':\n",
    "        schema()\n",
    "    elif len(operation)==0: # Escape Key\n",
    "        return\n",
    "    else:\n",
    "        print(\"Please enter c, r, u, or d\") \n",
    "    menu() # recursion, repeat menu\n",
    "        \n",
    "try:\n",
    "    menu() # start menu\n",
    "except:\n",
    "    print(\"Perform Jupyter 'Run All' prior to starting menu\")\n"
   ]
  },
  {
   "attachments": {},
   "cell_type": "markdown",
   "metadata": {},
   "source": [
    "# Hacks\n",
    "- Add this Blog to you own Blogging site.  In the Blog add notes and observations on each code cell.\n",
    "- In this implementation, do you see procedural abstraction?\n",
    "- In 2.4a or 2.4b lecture\n",
    "    - Do you see data abstraction?  Complement this with Debugging example.\n",
    "    - Use Imperative or OOP style to Create a new Table or do something that applies to your CPT project.\n",
    "    \n",
    "\n",
    "Reference... [sqlite documentation](https://www.sqlitetutorial.net/sqlite-python/creating-tables/)\n"
   ]
  },
  {
   "cell_type": "markdown",
   "metadata": {},
   "source": [
    "### Creating my own table\n",
    "Using the imperative style, I find it much easier and it makes a lot more sense"
   ]
  },
  {
   "cell_type": "code",
   "execution_count": 8,
   "metadata": {},
   "outputs": [
    {
     "name": "stdout",
     "output_type": "stream",
     "text": [
      "Table created successfully!\n"
     ]
    }
   ],
   "source": [
    "import sqlite3\n",
    "\n",
    "# establish connection and such\n",
    "conn = sqlite3.connect('instance/sqlite.db')\n",
    "cursor = conn.cursor()\n",
    "\n",
    "# creating the table\n",
    "cars = '''CREATE TABLE reservations(\n",
    "    _name TEXT,\n",
    "    _car TEXT,\n",
    "    _dates TEXT\n",
    ")'''\n",
    "cursor.execute(cars)\n",
    "print(\"Table created successfully!\")\n",
    "\n",
    "# commit new table and close connection\n",
    "conn.commit()\n",
    "conn.close()"
   ]
  },
  {
   "cell_type": "markdown",
   "metadata": {},
   "source": [
    "#### Create Entry"
   ]
  },
  {
   "cell_type": "code",
   "execution_count": 22,
   "metadata": {},
   "outputs": [
    {
     "name": "stdout",
     "output_type": "stream",
     "text": [
      "A record for Joe has been created\n"
     ]
    }
   ],
   "source": [
    "import sqlite3\n",
    "\n",
    "def create_entry():\n",
    "    name = input(\"Enter your name:\")\n",
    "    car = input(\"What car will you be using?\")\n",
    "    dates = input(\"Which dates will you plan on using the car? (MM/DD - MM/DD)\")\n",
    "    \n",
    "    conn = sqlite3.connect('instance/sqlite.db')\n",
    "    cursor = conn.cursor()\n",
    "    \n",
    "    try:\n",
    "        # Execute an SQL command to insert data into a table\n",
    "        cursor.execute(\"INSERT INTO reservations (_name, _car, _dates) VALUES (?, ?, ?)\", (name, car, dates))\n",
    "        \n",
    "        # Commit the changes to the database\n",
    "        conn.commit()\n",
    "        print(f\"A record for {name} has been created\")\n",
    "                \n",
    "    except sqlite3.Error as error:\n",
    "        print(\"Error while executing the INSERT:\", error)\n",
    "\n",
    "    conn.close()\n",
    "\n",
    "create_entry()"
   ]
  },
  {
   "cell_type": "markdown",
   "metadata": {},
   "source": [
    "#### Update Entry"
   ]
  },
  {
   "cell_type": "code",
   "execution_count": 17,
   "metadata": {},
   "outputs": [
    {
     "name": "stdout",
     "output_type": "stream",
     "text": [
      "The car for John Smith was updated to Buick Enclave\n"
     ]
    }
   ],
   "source": [
    "import sqlite3\n",
    "\n",
    "def update_entry():\n",
    "    \n",
    "    name = input(\"Enter your name to update\")\n",
    "    choice = input(\"What do you want to change? Enter c for car and d for dates.\")\n",
    "    if choice == \"c\":\n",
    "        car = input(\"What car do you want to drive instead?\")\n",
    "        conn = sqlite3.connect('instance/sqlite.db')\n",
    "        cursor = conn.cursor()\n",
    "\n",
    "        try:\n",
    "            cursor.execute(\"UPDATE reservations SET _car = ? where _name = ?\", (car, name))\n",
    "            if cursor.rowcount == 0:\n",
    "                print(f\"The name {name} was not found\")\n",
    "            else:\n",
    "                print(f\"The car for {name} was updated to {car}\")\n",
    "                conn.commit()\n",
    "        except sqlite3.Error as error:\n",
    "            print(\"Error while updating\", error)\n",
    "    \n",
    "    if choice == \"d\":\n",
    "        dates = input(\"What dates will you be driving instead?\")\n",
    "        conn = sqlite3.connect('instance/sqlite.db')\n",
    "        cursor = conn.cursor()\n",
    "\n",
    "        try:\n",
    "            cursor.execute(\"UPDATE reservations SET _dates = ? where _name = ?\", (dates, name))\n",
    "            if cursor.rowcount == 0:\n",
    "                print(f\"The name {name} was not found\")\n",
    "            else:\n",
    "                print(f\"The dates for {name} have been updated to {dates}\")\n",
    "                conn.commit()\n",
    "        except sqlite3.Error as error:\n",
    "            print(\"Error while updating\", error)\n",
    "\n",
    "update_entry()"
   ]
  },
  {
   "cell_type": "markdown",
   "metadata": {},
   "source": [
    "#### Delete Entry"
   ]
  },
  {
   "cell_type": "code",
   "execution_count": null,
   "metadata": {},
   "outputs": [],
   "source": [
    "import sqlite3\n",
    "\n",
    "def delete_entry():\n",
    "    name = input(\"Enter your name to delete your entry\")\n",
    "    conn = sqlite3.connect('instance/sqlite.db')\n",
    "    cursor = conn.cursor()\n",
    "\n",
    "    try:\n",
    "        cursor.execute(\"DELETE FROM reservations WHERE _name = ?\", (name,))\n",
    "        if cursor.rowcount == 0:\n",
    "            print(f\"The name {name} was not found in the table\")\n",
    "        else:\n",
    "            print(f\"The entry for {name} has been removed\")\n",
    "            conn.commit()\n",
    "    except sqlite3.Error as error:\n",
    "            print(\"Error while deleting\", error)\n",
    "\n",
    "delete_entry()"
   ]
  },
  {
   "cell_type": "markdown",
   "metadata": {},
   "source": [
    "#### Read Entry"
   ]
  },
  {
   "cell_type": "code",
   "execution_count": 29,
   "metadata": {},
   "outputs": [
    {
     "name": "stdout",
     "output_type": "stream",
     "text": [
      "('John Smith', 'Buick Enclave', '03/22 - 03/26')\n",
      "('Trent Cardall', 'Ford Taurus', '04/12 - 04/16')\n",
      "('Joe', 'MINI Convertible', '05/02 - 05/03')\n",
      "('Luke', 'Subaru Outback', '04/12 - 04/16')\n",
      "('Darth Vader', 'Buick XC90', '03/26 - 03/28')\n"
     ]
    }
   ],
   "source": [
    "import sqlite3\n",
    "\n",
    "def read_entry():\n",
    "    conn = sqlite3.connect('instance/sqlite.db')\n",
    "    cursor = conn.cursor()\n",
    "    data = cursor.execute('SELECT * FROM reservations').fetchall()\n",
    "    for row in data:\n",
    "        print(row)\n",
    "\n",
    "read_entry()"
   ]
  },
  {
   "cell_type": "markdown",
   "metadata": {},
   "source": [
    "#### Menu"
   ]
  },
  {
   "cell_type": "code",
   "execution_count": 28,
   "metadata": {},
   "outputs": [
    {
     "name": "stdout",
     "output_type": "stream",
     "text": [
      "A record for Darth Vader has been created\n"
     ]
    }
   ],
   "source": [
    "def db_menu():\n",
    "    option = input(\"(C)reate, (R)ead, (U)pdate, or (D)elete?\")\n",
    "    if option == \"C\":\n",
    "        create_entry()\n",
    "    elif option == \"R\":\n",
    "        read_entry()\n",
    "    elif option == \"U\":\n",
    "        update_entry()\n",
    "    elif option == \"D\":\n",
    "        delete_entry()\n",
    "    else:\n",
    "        print(\"You did not enter one of the correct options. Please try again.\")\n",
    "\n",
    "db_menu()"
   ]
  },
  {
   "cell_type": "markdown",
   "metadata": {},
   "source": [
    "### Debugging read function\n",
    "\n",
    "![](images/debug.png)\n",
    "\n",
    "You can see the records of the database, as well as the conn and cursor objects"
   ]
  }
 ],
 "metadata": {
  "kernelspec": {
   "display_name": "Python 3.8.2 64-bit",
   "language": "python",
   "name": "python3"
  },
  "language_info": {
   "codemirror_mode": {
    "name": "ipython",
    "version": 3
   },
   "file_extension": ".py",
   "mimetype": "text/x-python",
   "name": "python",
   "nbconvert_exporter": "python",
   "pygments_lexer": "ipython3",
   "version": "3.8.2"
  },
  "orig_nbformat": 4,
  "vscode": {
   "interpreter": {
    "hash": "31f2aee4e71d21fbe5cf8b01ff0e069b9275f58929596ceb00d14d90e3e16cd6"
   }
  }
 },
 "nbformat": 4,
 "nbformat_minor": 2
}
