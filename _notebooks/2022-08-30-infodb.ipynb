{
 "cells": [
  {
   "cell_type": "markdown",
   "metadata": {},
   "source": [
    "# \"InfoDb Lists\"\n",
    "> \"Making personalized lists using InfoDb\"\n",
    "\n",
    "- toc: true\n",
    "- branch: master\n",
    "- badges: true\n",
    "- comments: true\n",
    "- author: Trent Cardall\n",
    "- categories: [fastpages, jupyter]"
   ]
  },
  {
   "cell_type": "markdown",
   "metadata": {},
   "source": [
    "In the cell below, the code creates a \"dictionary\" where all the data is stored. I decided to define certain things about me to show my understanding of data structures. tesst"
   ]
  },
  {
   "cell_type": "code",
   "execution_count": 2,
   "metadata": {},
   "outputs": [
    {
     "name": "stdout",
     "output_type": "stream",
     "text": [
      "[{'FirstName': 'Trent', 'LastName': 'Cardall', 'Class': 'APCSP', 'Date of Birth': 'March 9, 2005', 'Place of Birth': 'Scottsdale, AZ', 'Hobbies': ['Playing music', 'Surfing', 'Playing Lacrosse']}]\n"
     ]
    }
   ],
   "source": [
    "InfoDb = []\n",
    "\n",
    "# Creating keys and values for the data structure\n",
    "InfoDb.append({\n",
    "    \"FirstName\": \"Trent\",\n",
    "    \"LastName\": \"Cardall\",\n",
    "    \"Class\": \"APCSP\",\n",
    "    \"Date of Birth\": \"March 9, 2005\",\n",
    "    \"Place of Birth\": \"Scottsdale, AZ\",\n",
    "    \"Hobbies\": [\"Playing music\", \"Surfing\", \"Playing Lacrosse\"] # [] makes ordered list\n",
    "    \n",
    "})\n",
    "\n",
    "print (InfoDb)"
   ]
  },
  {
   "cell_type": "markdown",
   "metadata": {},
   "source": [
    "The data structure was printed which shows proof that it works. However, it is not exactly easy for the average person to read. By using other functions we can format the list to make the output more organized. There are multiple ways to pull data out of the structure, but all of them will produce the same output."
   ]
  },
  {
   "cell_type": "markdown",
   "metadata": {},
   "source": [
    "# For loop\n",
    "Pulls records one by one out of data structure until there is nothing left"
   ]
  },
  {
   "cell_type": "code",
   "execution_count": 3,
   "metadata": {},
   "outputs": [
    {
     "name": "stdout",
     "output_type": "stream",
     "text": [
      "A little about myself:\n",
      "Trent Cardall\n",
      "\t -Class: APCSP\n",
      "\t -Date of Birth: March 9, 2005\n",
      "\t -Place of Birth: Scottsdale, AZ\n",
      "\t -Hobbies:Playing music, Surfing, Playing Lacrosse\n"
     ]
    }
   ],
   "source": [
    "def print_data(d_rec):\n",
    "    print(d_rec[\"FirstName\"], d_rec[\"LastName\"])\n",
    "    print(\"\\t\", \"-Class:\", d_rec[\"Class\"])\n",
    "    print(\"\\t\", \"-Date of Birth:\", d_rec[\"Date of Birth\"])\n",
    "    print(\"\\t\", \"-Place of Birth:\", d_rec[\"Place of Birth\"])\n",
    "    print(\"\\t\", \"-Hobbies:\", end=\"\")\n",
    "    print(\", \".join(d_rec[\"Hobbies\"]))\n",
    "\n",
    "\n",
    "def for_loop():\n",
    "    print(\"A little about myself:\")\n",
    "    for record in InfoDb:\n",
    "        print_data(record)\n",
    "\n",
    "\n",
    "for_loop() # activating function\n"
   ]
  },
  {
   "cell_type": "markdown",
   "metadata": {},
   "source": [
    "# While loop\n",
    "Counts through the items in the list until record is passed."
   ]
  },
  {
   "cell_type": "code",
   "execution_count": 4,
   "metadata": {},
   "outputs": [
    {
     "name": "stdout",
     "output_type": "stream",
     "text": [
      "A little about myself:\n",
      "Trent Cardall\n",
      "\t -Class: APCSP\n",
      "\t -Date of Birth: March 9, 2005\n",
      "\t -Place of Birth: Scottsdale, AZ\n",
      "\t -Hobbies:Playing music, Surfing, Playing Lacrosse\n"
     ]
    }
   ],
   "source": [
    "def while_loop():\n",
    "    print(\"A little about myself:\")\n",
    "    i = 0\n",
    "    while i < len(InfoDb):\n",
    "        record = InfoDb[i]\n",
    "        print_data(record)\n",
    "        i +=1\n",
    "    return\n",
    "\n",
    "while_loop()\n"
   ]
  },
  {
   "cell_type": "markdown",
   "metadata": {},
   "source": [
    "# Recursion\n",
    "Using a function defined as recursive_loop(i), each time data is pulled out it will add a number to i to move on to the next item in the list. Eventually i < len(InfoDb) will be false, and the loop will end\n"
   ]
  },
  {
   "cell_type": "code",
   "execution_count": 5,
   "metadata": {},
   "outputs": [
    {
     "name": "stdout",
     "output_type": "stream",
     "text": [
      "A little about myself:\n",
      "Trent Cardall\n",
      "\t -Class: APCSP\n",
      "\t -Date of Birth: March 9, 2005\n",
      "\t -Place of Birth: Scottsdale, AZ\n",
      "\t -Hobbies:Playing music, Surfing, Playing Lacrosse\n"
     ]
    }
   ],
   "source": [
    "def recursive_loop(i):\n",
    "    if i < len(InfoDb):\n",
    "        record = InfoDb[i]\n",
    "        print_data(record)\n",
    "        recursive_loop(i + 1)\n",
    "\n",
    "print (\"A little about myself:\")\n",
    "recursive_loop(0)"
   ]
  },
  {
   "cell_type": "markdown",
   "metadata": {},
   "source": [
    "# Reverse Order\n",
    "One of the hacks is to attempt to display the list in reverse order. The first idea that came to mind and seemed easiest was to change the recursive loop so that it subtracts each time, and start it at the highest number of the list."
   ]
  },
  {
   "cell_type": "code",
   "execution_count": 15,
   "metadata": {},
   "outputs": [
    {
     "name": "stdout",
     "output_type": "stream",
     "text": [
      "Reverse order\n",
      "\n",
      "A little about myself:\n"
     ]
    }
   ],
   "source": [
    "def reverse_order(i):\n",
    "    if i <= len(InfoDb):\n",
    "        record = InfoDb[i]\n",
    "        print_data(record)\n",
    "        reverse_order(i - 1)\n",
    "\n",
    "print(\"Reverse order\"+\"\\n\")\n",
    "print(\"A little about myself:\")\n",
    "reverse_order(6)"
   ]
  },
  {
   "cell_type": "markdown",
   "metadata": {},
   "source": [
    "That didn't seem to work, and I couldn't think of any other ideas, so I tried a quick google search, and attempted new methods"
   ]
  },
  {
   "cell_type": "code",
   "execution_count": 18,
   "metadata": {},
   "outputs": [
    {
     "name": "stdout",
     "output_type": "stream",
     "text": [
      "[{'FirstName': 'Trent', 'LastName': 'Cardall', 'Class': 'APCSP', 'Date of Birth': 'March 9, 2005', 'Place of Birth': 'Scottsdale, AZ', 'Hobbies': ['Playing music', 'Surfing', 'Playing Lacrosse']}]\n"
     ]
    }
   ],
   "source": [
    "InfoDb.reverse()\n",
    "print(InfoDb)"
   ]
  },
  {
   "cell_type": "markdown",
   "metadata": {},
   "source": [
    "That didn't seem to do anything either. I am not quite sure how to reverse this particular list, so I am going to attempt making a simpler list and reversing it."
   ]
  },
  {
   "cell_type": "code",
   "execution_count": 21,
   "metadata": {},
   "outputs": [
    {
     "name": "stdout",
     "output_type": "stream",
     "text": [
      "Normal order: ['a', 'b', 'c', 'd', 'e', 'f', 'g', 'h', 'i', 'j', 'k', 'l', 'm', 'n', 'o', 'v', 'q', 'r', 's', 't', 'u', 'v', 'w', 'x', 'y', 'z'] \n",
      "\n",
      "Reverse order: ['z', 'y', 'x', 'w', 'v', 'u', 't', 's', 'r', 'q', 'v', 'o', 'n', 'm', 'l', 'k', 'j', 'i', 'h', 'g', 'f', 'e', 'd', 'c', 'b', 'a']\n"
     ]
    }
   ],
   "source": [
    "alphabet = [\"a\", \"b\", \"c\", \"d\", \"e\", \"f\", \"g\", \"h\", \"i\", \"j\", \"k\", \"l\", \"m\", \"n\", \"o\", \"v\", \"q\", \"r\", \"s\", \"t\", \"u\", \"v\", \"w\", \"x\", \"y\", \"z\"]\n",
    "print(\"Normal order:\", alphabet, \"\\n\")\n",
    "\n",
    "alphabet.reverse()\n",
    "print(\"Reverse order:\", alphabet)\n"
   ]
  },
  {
   "cell_type": "markdown",
   "metadata": {},
   "source": [
    "That worked! Unfortunately I was not able to find a way to reverse the previous, more complicated list I made but I did reverse a list."
   ]
  }
 ],
 "metadata": {
  "kernelspec": {
   "display_name": "Python 3.8.2 64-bit",
   "language": "python",
   "name": "python3"
  },
  "language_info": {
   "codemirror_mode": {
    "name": "ipython",
    "version": 3
   },
   "file_extension": ".py",
   "mimetype": "text/x-python",
   "name": "python",
   "nbconvert_exporter": "python",
   "pygments_lexer": "ipython3",
   "version": "3.8.2"
  },
  "orig_nbformat": 4,
  "vscode": {
   "interpreter": {
    "hash": "31f2aee4e71d21fbe5cf8b01ff0e069b9275f58929596ceb00d14d90e3e16cd6"
   }
  }
 },
 "nbformat": 4,
 "nbformat_minor": 2
}
