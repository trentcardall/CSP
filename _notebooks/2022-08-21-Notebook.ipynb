{
 "cells": [
  {
   "cell_type": "markdown",
   "metadata": {},
   "source": [
    "# Example notebook post\n",
    "\n",
    "-toc: true\n",
    "-branch: master\n",
    "-badges: true\n",
    "-comments: true\n",
    "-author: Trent Cardall\n",
    "-categories: [fastpages, jupyter]\n",
    "\n",
    "Below should be example of python code\n",
    "\n",
    "```\n",
    "print (\"Hello\")\n",
    "\n",
    "```\n",
    "\n"
   ]
  }
 ],
 "metadata": {
  "kernelspec": {
   "display_name": "Python 3.8.2 64-bit",
   "language": "python",
   "name": "python3"
  },
  "language_info": {
   "name": "python",
   "version": "3.8.2"
  },
  "orig_nbformat": 4,
  "vscode": {
   "interpreter": {
    "hash": "31f2aee4e71d21fbe5cf8b01ff0e069b9275f58929596ceb00d14d90e3e16cd6"
   }
  }
 },
 "nbformat": 4,
 "nbformat_minor": 2
}
