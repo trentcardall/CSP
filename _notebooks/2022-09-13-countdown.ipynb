{
 "cells": [
  {
   "cell_type": "markdown",
   "metadata": {},
   "source": [
    "# \"Countdown\"\n",
    "> \"Creating a timer in python\"\n",
    "\n",
    "- toc: true\n",
    "- branch: master\n",
    "- badges: true\n",
    "- comments: true\n",
    "- author: Trent Cardall\n",
    "- categories: [fastpages, jupyter]"
   ]
  },
  {
   "cell_type": "markdown",
   "metadata": {},
   "source": [
    "## Original plan\n",
    "I originally decided to make a 10 second timer. This was not very hard to make and as I was making the code I realized it was very repetitive, but it worked."
   ]
  },
  {
   "cell_type": "code",
   "execution_count": 8,
   "metadata": {},
   "outputs": [
    {
     "name": "stdout",
     "output_type": "stream",
     "text": [
      "10 seconds remaining\n",
      "9 seconds remaining\n",
      "8 seconds remaining\n",
      "7 seconds remaining\n",
      "6 seconds remaining\n",
      "5 seconds remaining\n",
      "4 seconds remaining\n",
      "3 seconds remaining\n",
      "2 seconds remaining\n",
      "1 seconds remaining\n",
      "0 seconds remaining\n",
      "Time's up!\n"
     ]
    }
   ],
   "source": [
    "import time\n",
    "def countdown(sec):\n",
    "    print(sec + \" seconds remaining\")\n",
    "    time.sleep(1)\n",
    "\n",
    "countdown(\"10\")\n",
    "countdown(\"9\")\n",
    "countdown(\"8\")\n",
    "countdown(\"7\")\n",
    "countdown(\"6\")\n",
    "countdown(\"5\")\n",
    "countdown(\"4\")\n",
    "countdown(\"3\")\n",
    "countdown(\"2\")\n",
    "countdown(\"1\")\n",
    "countdown(\"0\")\n",
    "print(\"Time's up!\")"
   ]
  },
  {
   "cell_type": "markdown",
   "metadata": {},
   "source": [
    "## Using a list\n",
    "I realized as I was making the code that this is something which could be done by abstracting data. I did not want to type the whole list myself, so I found code on the internet which can create a list with any numbers you want. I chose 0-60 as that made the most sense, regarding the timer is only in seconds. You can make the list as big as you want though."
   ]
  },
  {
   "cell_type": "code",
   "execution_count": 7,
   "metadata": {},
   "outputs": [
    {
     "name": "stdout",
     "output_type": "stream",
     "text": [
      "[0, 1, 2, 3, 4, 5, 6, 7, 8, 9, 10, 11, 12, 13, 14, 15, 16, 17, 18, 19, 20, 21, 22, 23, 24, 25, 26, 27, 28, 29, 30, 31, 32, 33, 34, 35, 36, 37, 38, 39, 40, 41, 42, 43, 44, 45, 46, 47, 48, 49, 50, 51, 52, 53, 54, 55, 56, 57, 58, 59, 60]\n"
     ]
    }
   ],
   "source": [
    "def create_list(r1, r2):\n",
    "    if r1 == r2:\n",
    "        return r1\n",
    "    else:\n",
    "        res = []\n",
    "        while (r1 < r2+1 ):\n",
    "            res.append(r1)\n",
    "            r1 += 1\n",
    "        return res\n",
    "\n",
    "# create list of number 0-60 for one minute\n",
    "r1, r2 = 0, 60\n",
    "print(create_list(r1, r2))"
   ]
  },
  {
   "cell_type": "markdown",
   "metadata": {},
   "source": [
    "I then turned this list created into a defined list in my code:"
   ]
  },
  {
   "cell_type": "code",
   "execution_count": 6,
   "metadata": {},
   "outputs": [
    {
     "name": "stdout",
     "output_type": "stream",
     "text": [
      "['0', '1', '2', '3', '4', '5', '6', '7', '8', '9', '10', '11', '12', '13', '14', '15', '16', '17', '18', '19', '20', '21', '22', '23', '24', '25', '26', '27', '28', '29', '30', '31', '32', '33', '34', '35', '36', '37', '38', '39', '40', '41', '42', '43', '44', '45', '46', '47', '48', '49', '50', '51', '52', '53', '54', '55', '56', '57', '58', '59', '60']\n"
     ]
    }
   ],
   "source": [
    "seconds = [\"0\", \"1\", \"2\", \"3\", \"4\", \"5\", \"6\", \"7\", \"8\", \"9\", \"10\", \"11\", \"12\", \"13\", \"14\", \"15\", \"16\", \"17\", \"18\", \"19\", \"20\", \"21\", \"22\", \"23\", \"24\", \"25\", \"26\", \"27\", \"28\", \"29\", \"30\", \"31\", \"32\", \"33\", \"34\", \"35\", \"36\", \"37\", \"38\", \"39\", \"40\", \"41\", \"42\", \"43\", \"44\", \"45\", \"46\", \"47\", \"48\", \"49\", \"50\", \"51\", \"52\", \"53\", \"54\", \"55\", \"56\", \"57\", \"58\", \"59\", \"60\"]\n",
    "print(seconds)"
   ]
  },
  {
   "cell_type": "markdown",
   "metadata": {},
   "source": [
    "Here is the code for the actual program I created. I realized along the way that it would be really cool if you could choose how long you wanted the timer be instead of just having it a minute long. Using what I learned about loops recently, I realized a while loop can create the function I wanted. However, I ran into multiple problems such as the list counting backwards and the loop never stopping, but after changing parts and a couple internet searches I figured out how to make it work the way I wanted to. You can input any number from 0-60 and it will give you a timer of that long."
   ]
  },
  {
   "cell_type": "code",
   "execution_count": 9,
   "metadata": {},
   "outputs": [
    {
     "name": "stdout",
     "output_type": "stream",
     "text": [
      "10 seconds remaining\n",
      "9 seconds remaining\n",
      "8 seconds remaining\n",
      "7 seconds remaining\n",
      "6 seconds remaining\n",
      "5 seconds remaining\n",
      "4 seconds remaining\n",
      "3 seconds remaining\n",
      "2 seconds remaining\n",
      "1 seconds remaining\n",
      "0 seconds remaining\n",
      "Time's up!\n"
     ]
    }
   ],
   "source": [
    "def timer():\n",
    "    time_wanted = int(input(\"How many seconds do you need?\"))\n",
    "    while time_wanted < len(seconds):\n",
    "        record = seconds[time_wanted]\n",
    "        countdown(record)\n",
    "        time_wanted -= 1\n",
    "        if time_wanted == -1:\n",
    "            break\n",
    "    return\n",
    "\n",
    "timer()\n",
    "print(\"Time's up!\")\n",
    "    "
   ]
  }
 ],
 "metadata": {
  "kernelspec": {
   "display_name": "Python 3.9.12 ('base')",
   "language": "python",
   "name": "python3"
  },
  "language_info": {
   "codemirror_mode": {
    "name": "ipython",
    "version": 3
   },
   "file_extension": ".py",
   "mimetype": "text/x-python",
   "name": "python",
   "nbconvert_exporter": "python",
   "pygments_lexer": "ipython3",
   "version": "3.9.12"
  },
  "orig_nbformat": 4,
  "vscode": {
   "interpreter": {
    "hash": "40d3a090f54c6569ab1632332b64b2c03c39dcf918b08424e98f38b5ae0af88f"
   }
  }
 },
 "nbformat": 4,
 "nbformat_minor": 2
}
