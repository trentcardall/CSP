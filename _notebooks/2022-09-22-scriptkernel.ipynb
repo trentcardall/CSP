{
 "cells": [
  {
   "cell_type": "markdown",
   "metadata": {},
   "source": [
    "# \"Using JavaScript Kernels\"\n",
    "> \"Storing personal information with JavaScript\"\n",
    "\n",
    "- toc: true\n",
    "- branch: master\n",
    "- badges: true\n",
    "- comments: true\n",
    "- author: Trent Cardall\n",
    "- categories: [fastpages, jupyter]"
   ]
  },
  {
   "cell_type": "markdown",
   "metadata": {},
   "source": [
    "## Defining Function to Create Lists"
   ]
  },
  {
   "cell_type": "code",
   "execution_count": 17,
   "metadata": {},
   "outputs": [
    {
     "name": "stdout",
     "output_type": "stream",
     "text": [
      "object ; attribute {\n",
      "  category: 'Name',\n",
      "  value: 'Trent',\n",
      "  info: 'Born on March 9, 2005' }\n",
      "string ; {\"category\":\"Name\",\"value\":\"Trent\",\"info\":\"Born on March 9, 2005\"}\n"
     ]
    }
   ],
   "source": [
    "function attribute(category, value, info) {\n",
    "    this.category=category;\n",
    "    this.value=value;\n",
    "    this.info=info;\n",
    "}\n",
    "\n",
    "attribute.prototype.toJSON = function() {\n",
    "    const obj = {category: this.category, value: this.value, info: this.info};\n",
    "    const json = JSON.stringify(obj);\n",
    "    return json;\n",
    "}\n",
    "\n",
    "function logItType(output) {\n",
    "    console.log(typeof output, \";\", output);\n",
    "}\n",
    "\n",
    "var basic = new attribute(\"Name\", \"Trent\", \"Born on March 9, 2005\")\n",
    "\n",
    "logItType(basic)\n",
    "logItType(basic.toJSON());\n"
   ]
  },
  {
   "cell_type": "markdown",
   "metadata": {},
   "source": [
    "## Adding Additional Attributes to Person"
   ]
  },
  {
   "cell_type": "code",
   "execution_count": 20,
   "metadata": {},
   "outputs": [
    {
     "name": "stdout",
     "output_type": "stream",
     "text": [
      "object ; [ attribute {\n",
      "    category: 'Name',\n",
      "    value: 'Trent',\n",
      "    info: 'Born on March 9, 2005' },\n",
      "  attribute { category: 'Age', value: '17', info: 'Senior in high school' },\n",
      "  attribute {\n",
      "    category: 'Hobbies',\n",
      "    value: 'Playing music, lacrosse, surfing',\n",
      "    info: 'Plays both drums and guitar' },\n",
      "  attribute {\n",
      "    category: 'Pets',\n",
      "    value: 'Dog',\n",
      "    info: 'Named Oscar, owned for about 5 years' },\n",
      "  attribute { category: 'Class', value: 'APCSP', info: 'Period 3' } ]\n",
      "undefined ; undefined\n",
      "string ; {\"category\":\"Name\",\"value\":\"Trent\",\"info\":\"Born on March 9, 2005\"}\n",
      "object ; { category: 'Name',\n",
      "  value: 'Trent',\n",
      "  info: 'Born on March 9, 2005' }\n"
     ]
    }
   ],
   "source": [
    "var additional = [\n",
    "    new attribute(\"Age\", \"17\", \"Senior in high school\"),\n",
    "    new attribute(\"Hobbies\", \"Playing music, lacrosse, surfing\", \"Plays both drums and guitar\"),\n",
    "    new attribute(\"Pets\", \"Dog\", \"Named Oscar, owned for about 5 years\"),\n",
    "    new attribute(\"Class\", \"APCSP\", \"Period 3\")\n",
    "]\n",
    "\n",
    "function person(basic, additional){\n",
    "    this.basic = basic\n",
    "    this.additional = additional\n",
    "    this.person = [basic]\n",
    "    this.additional.forEach(additional => { this.person.push(additional) })\n",
    "    this.json = []\n",
    "    this.person.forEach(attribute => this.json.push(attribute.toJSON()));\n",
    "}\n",
    "\n",
    "me = new person(basic, additional)\n",
    "\n",
    "logItType(me.person);\n",
    "logItType(me.person[0].name);\n",
    "logItType(me.json[0]);\n",
    "logItType(JSON.parse(me.json[0]));\n"
   ]
  },
  {
   "cell_type": "markdown",
   "metadata": {},
   "source": [
    "## Attempting to create HTML Table"
   ]
  },
  {
   "cell_type": "code",
   "execution_count": 21,
   "metadata": {},
   "outputs": [
    {
     "data": {
      "text/html": [
       "<div style='display:inline-block;background: #804175;border: 2 px white;box-shadow: 0.8 em 0.4 em 0.4 em black;'><table><tr><th><b>Attribute</b></th><th><b>Value</b></th><th><b>More Info</b></th></tr><tr><td>Name</td><td>Trent</td><td>Born on March 9, 2005</td><tr><tr><td>Age</td><td>17</td><td>Senior in high school</td><tr><tr><td>Hobbies</td><td>Playing music, lacrosse, surfing</td><td>Plays both drums and guitar</td><tr><tr><td>Pets</td><td>Dog</td><td>Named Oscar, owned for about 5 years</td><tr><tr><td>Class</td><td>APCSP</td><td>Period 3</td><tr></table></div>"
      ]
     },
     "execution_count": 21,
     "metadata": {},
     "output_type": "execute_result"
    }
   ],
   "source": [
    "person.prototype._toHtml = function () {\n",
    "    var style = (\n",
    "        \"display:inline-block;\" +\n",
    "        \"background: #804175;\" +\n",
    "        \"border: 2 px white;\" +\n",
    "        \"box-shadow: 0.8 em 0.4 em 0.4 em black;\"\n",
    "    );\n",
    "\n",
    "    var body = \"\";\n",
    "    body += \"<tr>\";\n",
    "    body += \"<th><b>\" + \"Attribute\" + \"</b></th>\";\n",
    "    body += \"<th><b>\" + \"Value\" + \"</b></th>\";\n",
    "    body += \"<th><b>\" + \"More Info\" + \"</b></th>\";\n",
    "    body += \"</tr>\";\n",
    "\n",
    "    for (var row of me.person) {\n",
    "        body += \"<tr>\";\n",
    "        body += \"<td>\" + row.category + \"</td>\";\n",
    "        body += \"<td>\" + row.value + \"</td>\";\n",
    "        body += \"<td>\" + row.info + \"</td>\";\n",
    "        body += \"<tr>\";   \n",
    "    }\n",
    "\n",
    "    return (\n",
    "        \"<div style='\" + style + \"'>\" +\n",
    "      \"<table>\" +\n",
    "        body +\n",
    "      \"</table>\" +\n",
    "    \"</div>\"\n",
    "    );\n",
    "}\n",
    "\n",
    "$$.html(me._toHtml());"
   ]
  }
 ],
 "metadata": {
  "kernelspec": {
   "display_name": "JavaScript (Node.js)",
   "language": "javascript",
   "name": "javascript"
  },
  "language_info": {
   "file_extension": ".js",
   "mimetype": "application/javascript",
   "name": "javascript",
   "version": "10.13.0"
  },
  "orig_nbformat": 4,
  "vscode": {
   "interpreter": {
    "hash": "40d3a090f54c6569ab1632332b64b2c03c39dcf918b08424e98f38b5ae0af88f"
   }
  }
 },
 "nbformat": 4,
 "nbformat_minor": 2
}
