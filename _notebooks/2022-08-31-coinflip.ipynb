{
 "cells": [
  {
   "cell_type": "markdown",
   "metadata": {},
   "source": [
    "# \"Python Game\"\n",
    "> \"Using my knowledge of python to create basic word guessing game\"\n",
    "\n",
    "- toc: true\n",
    "- branch: master\n",
    "- badges: true\n",
    "- comments: true\n",
    "- author: Trent Cardall\n",
    "- categories: [fastpages, jupyter]"
   ]
  },
  {
   "cell_type": "code",
   "execution_count": 3,
   "metadata": {},
   "outputs": [
    {
     "name": "stdout",
     "output_type": "stream",
     "text": [
      "Welcome to the word guessing game called 'Can You Guess the Word?'!\n",
      "Press enter to continue:\n",
      "\n",
      "Can you guess the word?\n",
      "Hint:It starts with the letter p and is a common language used in coding.\n",
      "Correct! Nicely done!\n",
      "On to the next word...\n",
      "\n",
      "Can you guess the word?\n",
      "Hint:The word starts with a p and is very common function used in python.\n",
      "Wow! Amazing! Great answer!\n",
      "This next word will be the last one! Finish strong!\n",
      "\n",
      "Can you guess the word?\n",
      "Hint:A common greeting that starts with an H and ends with an O.\n",
      "That was wrong! You can do better than that!\n",
      "Thank you for playing Can You Guess the Word! We will catch you on the flippity-flip!\n"
     ]
    }
   ],
   "source": [
    "def word_hint(hint):\n",
    "    print(\"Can you guess the word?\")\n",
    "    print(\"Hint:\" + hint)\n",
    "    msg = input()\n",
    "    return msg\n",
    "\n",
    "print(\"Welcome to the word guessing game called 'Can You Guess the Word?'!\")\n",
    "print(\"Press enter to continue:\"+\"\\n\")\n",
    "input()\n",
    "\n",
    "rsp = word_hint(\"It starts with the letter p and is a common language used in coding.\")\n",
    "if rsp == \"python\":\n",
    "        print (\"Correct! Nicely done!\")\n",
    "else:\n",
    "    print(\"Wrong! The answer we were looking for was 'python'.\")\n",
    "\n",
    "print(\"On to the next word...\"+\"\\n\")\n",
    "\n",
    "rsp = word_hint(\"The word starts with a p and is very common function used in python.\")\n",
    "if rsp == \"print\":\n",
    "    print(\"Wow! Amazing! Great answer!\")\n",
    "else:\n",
    "    print(\"Oh no! That was wrong! The answer we were looking for was 'print'.\")\n",
    "\n",
    "print(\"This next word will be the last one! Finish strong!\"+\"\\n\")\n",
    "\n",
    "rsp = word_hint(\"A common greeting that starts with an H and ends with an O.\")\n",
    "if rsp == \"hello\":\n",
    "    print(\"That is right! Great job!\")\n",
    "else:\n",
    "    print(\"That was wrong! You can do better than that!\")\n",
    "\n",
    "print(\"Thank you for playing Can You Guess the Word! We will catch you on the flippity-flip!\")"
   ]
  }
 ],
 "metadata": {
  "kernelspec": {
   "display_name": "Python 3.8.2 64-bit",
   "language": "python",
   "name": "python3"
  },
  "language_info": {
   "codemirror_mode": {
    "name": "ipython",
    "version": 3
   },
   "file_extension": ".py",
   "mimetype": "text/x-python",
   "name": "python",
   "nbconvert_exporter": "python",
   "pygments_lexer": "ipython3",
   "version": "3.8.2"
  },
  "orig_nbformat": 4,
  "vscode": {
   "interpreter": {
    "hash": "31f2aee4e71d21fbe5cf8b01ff0e069b9275f58929596ceb00d14d90e3e16cd6"
   }
  }
 },
 "nbformat": 4,
 "nbformat_minor": 2
}
